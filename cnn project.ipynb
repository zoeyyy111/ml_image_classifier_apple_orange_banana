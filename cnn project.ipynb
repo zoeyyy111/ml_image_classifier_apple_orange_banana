{
 "cells": [
  {
   "attachments": {},
   "cell_type": "markdown",
   "metadata": {},
   "source": [
    "# Team Project - Image Classifier Project Specifications"
   ]
  },
  {
   "attachments": {},
   "cell_type": "markdown",
   "metadata": {},
   "source": [
    "1. import libraries"
   ]
  },
  {
   "cell_type": "code",
   "execution_count": 49,
   "metadata": {},
   "outputs": [],
   "source": [
    "import numpy as np\n",
    "import tensorflow as tf\n",
    "import matplotlib.pyplot as plt\n",
    "import cv2\n",
    "import os\n",
    "\n",
    "from PIL import Image\n",
    "from keras.models import Sequential\n",
    "from keras.layers import Dense\n",
    "from keras.utils import np_utils\n",
    "from keras.layers import Dropout\n",
    "from keras.layers import Flatten\n",
    "from keras.layers.convolutional import Conv2D\n",
    "from keras.layers.convolutional import MaxPooling2D\n",
    "from sklearn.preprocessing import LabelEncoder\n",
    "from keras.callbacks import EarlyStopping"
   ]
  },
  {
   "attachments": {},
   "cell_type": "markdown",
   "metadata": {},
   "source": [
    "2. Preprocess images: Load the images from dataset and preprocess them.\n",
    "\n",
    "- resizing the images to a consistent size\n",
    "- converting them to a suitable color format (e.g., RGB)\n",
    "- normalizing the pixel values."
   ]
  },
  {
   "cell_type": "code",
   "execution_count": 51,
   "metadata": {},
   "outputs": [],
   "source": [
    "def preprocess_image(image_path):\n",
    "    image = cv2.imread(image_path)\n",
    "    image = cv2.cvtColor(image, cv2.COLOR_BGR2RGB)  # Convert to RGB format\n",
    "    image = cv2.resize(image,(64,64)) # Resize to 64*64\n",
    "    image = image.astype(np.float32)  # Convert pixel values to float32\n",
    "    image /= 255.0  # Normalize pixel values to the range [0, 1]\n",
    "    return image\n"
   ]
  },
  {
   "attachments": {},
   "cell_type": "markdown",
   "metadata": {},
   "source": [
    "3. read image data\n"
   ]
  },
  {
   "cell_type": "code",
   "execution_count": 52,
   "metadata": {},
   "outputs": [],
   "source": [
    "def load_images_from_folder(folder_path):\n",
    "    images = []\n",
    "    labels = []\n",
    "    for filename in os.listdir(folder_path):\n",
    "        if filename.endswith(\".jpg\"):\n",
    "            image_path = os.path.join(folder_path, filename)\n",
    "            image = preprocess_image(image_path)\n",
    "            images.append(image)\n",
    "            labels.append(os.path.splitext(filename)[0].split(\"_\")[0])\n",
    "    return images, labels\n",
    "\n",
    "train_folder = r\"C:\\Users\\yaobi\\Desktop\\machine learning project\\train\"\n",
    "train_images, train_labels = load_images_from_folder(train_folder)\n",
    "\n",
    "\n",
    "test_folder = r\"C:\\Users\\yaobi\\Desktop\\machine learning project\\test\"\n",
    "test_images, test_labels = load_images_from_folder(test_folder)\n",
    "\n",
    "train_images = np.reshape(train_images, (len(train_images), 64, 64, 3))\n",
    "test_images = np.reshape(test_images, (len(test_images), 64, 64, 3))\n",
    "\n",
    "def create_dataset(images, labels):\n",
    "    dataset = tf.data.Dataset.from_tensor_slices((images, labels))\n",
    "    return dataset\n",
    "\n",
    "\n",
    "\n",
    "train_dataset = create_dataset(train_images, train_labels)\n",
    "test_dataset = create_dataset(test_images, test_labels)"
   ]
  },
  {
   "attachments": {},
   "cell_type": "markdown",
   "metadata": {},
   "source": [
    "one hot coding the labels"
   ]
  },
  {
   "cell_type": "code",
   "execution_count": 53,
   "metadata": {},
   "outputs": [
    {
     "name": "stdout",
     "output_type": "stream",
     "text": [
      "(60, 64, 64, 3)\n",
      "['apple', 'apple', 'apple', 'apple', 'apple', 'apple', 'apple', 'apple', 'apple', 'apple', 'apple', 'apple', 'apple', 'apple', 'apple', 'apple', 'apple', 'apple', 'apple', 'banana', 'banana', 'banana', 'banana', 'banana', 'banana', 'banana', 'banana', 'banana', 'banana', 'banana', 'banana', 'banana', 'banana', 'banana', 'banana', 'banana', 'banana', 'mixed', 'mixed', 'mixed', 'mixed', 'mixed', 'orange', 'orange', 'orange', 'orange', 'orange', 'orange', 'orange', 'orange', 'orange', 'orange', 'orange', 'orange', 'orange', 'orange', 'orange', 'orange', 'orange', 'orange']\n"
     ]
    }
   ],
   "source": [
    "print (test_images.shape)\n",
    "print (test_labels)"
   ]
  },
  {
   "cell_type": "code",
   "execution_count": 54,
   "metadata": {},
   "outputs": [],
   "source": [
    "def to_onehot(arr):\n",
    "    onehot = []\n",
    "\n",
    "    for label in arr:\n",
    "        if label == 'apple':\n",
    "            _1hot = [1, 0, 0, 0]\n",
    "        elif label == 'banana':\n",
    "            _1hot = [0, 1, 0, 0]\n",
    "        elif label == 'orange':\n",
    "            _1hot = [0, 0, 1, 0]\n",
    "        else:   # label == 3\n",
    "            _1hot = [0, 0, 0, 1]\n",
    "        \n",
    "        onehot.append(_1hot)\n",
    "\n",
    "    # converting from python list to numpy array\n",
    "    return np.array(onehot)\n",
    "\n",
    "\n",
    "train_onehot_labels=to_onehot(train_labels)\n",
    "test_onehot_labels=to_onehot(test_labels)"
   ]
  },
  {
   "cell_type": "code",
   "execution_count": 55,
   "metadata": {},
   "outputs": [
    {
     "name": "stdout",
     "output_type": "stream",
     "text": [
      "[[[0.80784315 0.9019608  0.9137255 ]\n",
      "  [0.32941177 0.44705883 0.3254902 ]\n",
      "  [0.20392157 0.30980393 0.1254902 ]\n",
      "  ...\n",
      "  [0.29411766 0.3882353  0.20784314]\n",
      "  [0.20392157 0.28627452 0.12941177]\n",
      "  [0.60784316 0.654902   0.4       ]]\n",
      "\n",
      " [[0.7294118  0.80784315 0.8352941 ]\n",
      "  [0.29411766 0.39607844 0.28627452]\n",
      "  [0.21176471 0.3372549  0.16470589]\n",
      "  ...\n",
      "  [0.4745098  0.53333336 0.32941177]\n",
      "  [0.30588236 0.34901962 0.14509805]\n",
      "  [0.16470589 0.24705882 0.0627451 ]]\n",
      "\n",
      " [[0.8392157  0.92156863 0.9372549 ]\n",
      "  [0.2784314  0.3764706  0.28627452]\n",
      "  [0.18039216 0.3254902  0.14509805]\n",
      "  ...\n",
      "  [0.91764706 0.90588236 0.78039217]\n",
      "  [0.8509804  0.8745098  0.69411767]\n",
      "  [0.2        0.26666668 0.09411765]]\n",
      "\n",
      " ...\n",
      "\n",
      " [[0.31764707 0.3882353  0.26666668]\n",
      "  [0.24313726 0.34509805 0.20392157]\n",
      "  [0.19215687 0.28235295 0.17254902]\n",
      "  ...\n",
      "  [0.48235294 0.5058824  0.28627452]\n",
      "  [0.27058825 0.3137255  0.15686275]\n",
      "  [0.19607843 0.2784314  0.14509805]]\n",
      "\n",
      " [[0.5882353  0.6117647  0.37254903]\n",
      "  [0.21176471 0.30980393 0.16862746]\n",
      "  [0.19215687 0.23137255 0.13725491]\n",
      "  ...\n",
      "  [0.2509804  0.29803923 0.18039216]\n",
      "  [0.21568628 0.23921569 0.2       ]\n",
      "  [0.6784314  0.6745098  0.4392157 ]]\n",
      "\n",
      " [[0.52156866 0.5568628  0.33333334]\n",
      "  [0.21176471 0.32156864 0.19607843]\n",
      "  [0.2        0.28627452 0.18039216]\n",
      "  ...\n",
      "  [0.13333334 0.23137255 0.11764706]\n",
      "  [0.07843138 0.17254902 0.04313726]\n",
      "  [0.09411765 0.20392157 0.04705882]]]\n"
     ]
    }
   ],
   "source": [
    "print (test_images[0])\n"
   ]
  },
  {
   "cell_type": "code",
   "execution_count": 56,
   "metadata": {},
   "outputs": [
    {
     "name": "stdout",
     "output_type": "stream",
     "text": [
      "apple\n",
      "['apple', 'apple', 'apple', 'apple', 'apple', 'apple', 'apple', 'apple', 'apple', 'apple', 'apple', 'apple', 'apple', 'apple', 'apple', 'apple', 'apple', 'apple', 'apple', 'banana', 'banana', 'banana', 'banana', 'banana', 'banana', 'banana', 'banana', 'banana', 'banana', 'banana', 'banana', 'banana', 'banana', 'banana', 'banana', 'banana', 'banana', 'mixed', 'mixed', 'mixed', 'mixed', 'mixed', 'orange', 'orange', 'orange', 'orange', 'orange', 'orange', 'orange', 'orange', 'orange', 'orange', 'orange', 'orange', 'orange', 'orange', 'orange', 'orange', 'orange', 'orange']\n"
     ]
    }
   ],
   "source": [
    "print (test_labels[0])\n",
    "\n",
    "print(test_labels)"
   ]
  },
  {
   "attachments": {},
   "cell_type": "markdown",
   "metadata": {},
   "source": [
    "to visualise my data"
   ]
  },
  {
   "cell_type": "code",
   "execution_count": 57,
   "metadata": {},
   "outputs": [
    {
     "data": {
      "image/png": "[encoded data removed]",
      "text/plain": [
       "<Figure size 1500x200 with 1 Axes>"
      ]
     },
     "metadata": {},
     "output_type": "display_data"
    }
   ],
   "source": [
    "classes =[\"apple\", \"orange\",'banana','mixed']\n",
    "\n",
    "label_mapping = {label: index for index, label in enumerate(classes)}\n",
    "\n",
    "def plot_sample(x, y, index):\n",
    "    plt.figure(figsize=(15, 2))\n",
    "    plt.imshow(x[index])\n",
    "    plt.xlabel(classes[label_mapping[y[index]]])\n",
    "\n",
    "\n",
    "plot_sample(test_images,test_labels,19)"
   ]
  },
  {
   "cell_type": "code",
   "execution_count": 58,
   "metadata": {},
   "outputs": [
    {
     "name": "stdout",
     "output_type": "stream",
     "text": [
      "['apple', 'apple', 'apple', 'apple', 'apple', 'apple', 'apple', 'apple', 'apple', 'apple', 'apple', 'apple', 'apple', 'apple', 'apple', 'apple', 'apple', 'apple', 'apple', 'apple', 'apple', 'apple', 'apple', 'apple', 'apple', 'apple', 'apple', 'apple', 'apple', 'apple', 'apple', 'apple', 'apple', 'apple', 'apple', 'apple', 'apple', 'apple', 'apple', 'apple', 'apple', 'apple', 'apple', 'apple', 'apple', 'apple', 'apple', 'apple', 'apple', 'apple', 'apple', 'apple', 'apple', 'apple', 'apple', 'apple', 'apple', 'apple', 'apple', 'apple', 'apple', 'apple', 'apple', 'apple', 'apple', 'apple', 'apple', 'apple', 'apple', 'apple', 'apple', 'apple', 'apple', 'apple', 'apple', 'banana', 'banana', 'banana', 'banana', 'banana', 'banana', 'banana', 'banana', 'banana', 'banana', 'banana', 'banana', 'banana', 'banana', 'banana', 'banana', 'banana', 'banana', 'banana', 'banana', 'banana', 'banana', 'banana', 'banana', 'banana', 'banana', 'banana', 'banana', 'banana', 'banana', 'banana', 'banana', 'banana', 'banana', 'banana', 'banana', 'banana', 'banana', 'banana', 'banana', 'banana', 'banana', 'banana', 'banana', 'banana', 'banana', 'banana', 'banana', 'banana', 'banana', 'banana', 'banana', 'banana', 'banana', 'banana', 'banana', 'banana', 'banana', 'banana', 'banana', 'banana', 'banana', 'banana', 'banana', 'banana', 'banana', 'banana', 'banana', 'banana', 'banana', 'banana', 'banana', 'banana', 'mixed', 'mixed', 'mixed', 'mixed', 'mixed', 'mixed', 'mixed', 'mixed', 'mixed', 'mixed', 'mixed', 'mixed', 'mixed', 'mixed', 'mixed', 'mixed', 'mixed', 'mixed', 'mixed', 'mixed', 'orange', 'orange', 'orange', 'orange', 'orange', 'orange', 'orange', 'orange', 'orange', 'orange', 'orange', 'orange', 'orange', 'orange', 'orange', 'orange', 'orange', 'orange', 'orange', 'orange', 'orange', 'orange', 'orange', 'orange', 'orange', 'orange', 'orange', 'orange', 'orange', 'orange', 'orange', 'orange', 'orange', 'orange', 'orange', 'orange', 'orange', 'orange', 'orange', 'orange', 'orange', 'orange', 'orange', 'orange', 'orange', 'orange', 'orange', 'orange', 'orange', 'orange', 'orange', 'orange', 'orange', 'orange', 'orange', 'orange', 'orange', 'orange', 'orange', 'orange', 'orange', 'orange', 'orange', 'orange', 'orange', 'orange', 'orange', 'orange', 'orange', 'orange', 'orange', 'orange']\n",
      "['apple', 'apple', 'apple', 'apple', 'apple', 'apple', 'apple', 'apple', 'apple', 'apple', 'apple', 'apple', 'apple', 'apple', 'apple', 'apple', 'apple', 'apple', 'apple', 'banana', 'banana', 'banana', 'banana', 'banana', 'banana', 'banana', 'banana', 'banana', 'banana', 'banana', 'banana', 'banana', 'banana', 'banana', 'banana', 'banana', 'banana', 'mixed', 'mixed', 'mixed', 'mixed', 'mixed', 'orange', 'orange', 'orange', 'orange', 'orange', 'orange', 'orange', 'orange', 'orange', 'orange', 'orange', 'orange', 'orange', 'orange', 'orange', 'orange', 'orange', 'orange']\n"
     ]
    }
   ],
   "source": [
    "print(train_labels)\n",
    "print(test_labels)"
   ]
  },
  {
   "attachments": {},
   "cell_type": "markdown",
   "metadata": {},
   "source": [
    "4. Batch and shuffle the datasets: To train your CNN model efficiently, batch the data and shuffle the training dataset."
   ]
  },
  {
   "cell_type": "code",
   "execution_count": 59,
   "metadata": {},
   "outputs": [],
   "source": [
    "# batch_size = 30\n",
    "\n",
    "# train_dataset = train_dataset.shuffle(len(train_images)).batch(batch_size)\n",
    "# test_dataset = test_dataset.batch(batch_size)"
   ]
  },
  {
   "attachments": {},
   "cell_type": "markdown",
   "metadata": {},
   "source": [
    "create model"
   ]
  },
  {
   "cell_type": "code",
   "execution_count": 60,
   "metadata": {},
   "outputs": [],
   "source": [
    "'''\n",
    "Create our model\n",
    "'''\n",
    "def create_model():\n",
    "    model = tf.keras.Sequential()\n",
    "\n",
    "    model.add(tf.keras.layers.RandomFlip(mode = \"horizontal_and_vertical\", seed = 5))\n",
    "    model.add(tf.keras.layers.RandomRotation(0.2, fill_mode= \"reflect\", interpolation=\"bilinear\", seed= 5, fill_value=0.0))\n",
    "    model.add(tf.keras.layers.Conv2D(filters=32, kernel_size=(3, 3), activation='relu'))\n",
    "    model.add(tf.keras.layers.MaxPooling2D(pool_size=(2, 2)))\n",
    "    model.add(tf.keras.layers.Conv2D(filters=64, kernel_size=(3, 3), activation='relu'))\n",
    "    model.add(tf.keras.layers.MaxPooling2D(pool_size=(2, 2)))\n",
    "    model.add(tf.keras.layers.Conv2D(filters=128, kernel_size=(3, 3), activation='relu'))\n",
    "    model.add(tf.keras.layers.MaxPooling2D(pool_size=(2, 2)))\n",
    "    # model.add(tf.keras.layers.Dropout(0.25))\n",
    "    # model.add(tf.keras.layers.BatchNormalization())\n",
    "    # lead to overfitt\n",
    "    model.add(tf.keras.layers.Flatten())\n",
    "    #model.add(tf.keras.layers.Dropout(0.25))\n",
    "    #not vry usful\n",
    "    model.add(tf.keras.layers.Dense(units=128, activation='relu')) \n",
    "    model.add(tf.keras.layers.Dropout(0.2))\n",
    "    model.add(tf.keras.layers.Dense(units=64, activation='relu')) \n",
    "    model.add(tf.keras.layers.Dropout(0.2))\n",
    "    model.add(tf.keras.layers.Dense(units=4, activation='softmax'))\n",
    "    model.compile(loss='categorical_crossentropy', optimizer='Nadam', metrics=['accuracy'])\n",
    "    #model.compile(loss='categorical_crossentropy', optimizer='adam', metrics=['accuracy'])\n",
    "    #optimizer = tf.keras.optimizers.Adam(learning_rate=0.008)    \n",
    "    #model.compile(loss='categorical_crossentropy', optimizer=optimizer, metrics=['accuracy'])\n",
    " \n",
    "    return model\n",
    "\n",
    "model = create_model()"
   ]
  },
  {
   "cell_type": "code",
   "execution_count": 61,
   "metadata": {},
   "outputs": [
    {
     "name": "stdout",
     "output_type": "stream",
     "text": [
      "240\n",
      "240\n"
     ]
    }
   ],
   "source": [
    "print (len(train_images))\n",
    "print (len(train_labels))"
   ]
  },
  {
   "cell_type": "code",
   "execution_count": 62,
   "metadata": {},
   "outputs": [
    {
     "name": "stdout",
     "output_type": "stream",
     "text": [
      "(240, 64, 64, 3)\n",
      "<class 'numpy.ndarray'>\n"
     ]
    }
   ],
   "source": [
    "print (train_images.shape)\n",
    "print (type(train_images))"
   ]
  },
  {
   "cell_type": "code",
   "execution_count": 63,
   "metadata": {},
   "outputs": [
    {
     "name": "stdout",
     "output_type": "stream",
     "text": [
      "(240, 4)\n",
      "<class 'numpy.ndarray'>\n"
     ]
    }
   ],
   "source": [
    "print (train_onehot_labels.shape)\n",
    "print (type(train_onehot_labels))"
   ]
  },
  {
   "cell_type": "code",
   "execution_count": 64,
   "metadata": {},
   "outputs": [
    {
     "data": {
      "text/plain": [
       "'\\nTrain our model.\\n\\ndef train_model(model, x_train, y_train):\\n    return model.fit(x=x_train, y=y_train, epochs=30)      \\n\\nhist= train_model(model, train_images, train_onehot_labels)\\n'"
      ]
     },
     "execution_count": 64,
     "metadata": {},
     "output_type": "execute_result"
    }
   ],
   "source": [
    "'''\n",
    "Train our model.\n",
    "\n",
    "def train_model(model, x_train, y_train):\n",
    "    return model.fit(x=x_train, y=y_train, epochs=30)      \n",
    "\n",
    "hist= train_model(model, train_images, train_onehot_labels)\n",
    "'''"
   ]
  },
  {
   "cell_type": "code",
   "execution_count": 65,
   "metadata": {},
   "outputs": [
    {
     "data": {
      "text/plain": [
       "\"\\nTest our model.\\n\\ndef test_model(model, x_test, y_test):\\n    loss, accuracy = model.evaluate(x=x_test, y=y_test)\\n\\n    print('loss = ', loss)\\n    print('accuracy = ', accuracy)\\n    return loss, accuracy    \\n\\n\\nh= test_model(model, test_images, test_onehot_labels)\\n\""
      ]
     },
     "execution_count": 65,
     "metadata": {},
     "output_type": "execute_result"
    }
   ],
   "source": [
    "'''\n",
    "Test our model.\n",
    "\n",
    "def test_model(model, x_test, y_test):\n",
    "    loss, accuracy = model.evaluate(x=x_test, y=y_test)\n",
    "\n",
    "    print('loss = ', loss)\n",
    "    print('accuracy = ', accuracy)\n",
    "    return loss, accuracy    \n",
    "\n",
    "\n",
    "h= test_model(model, test_images, test_onehot_labels)\n",
    "'''"
   ]
  },
  {
   "cell_type": "code",
   "execution_count": 66,
   "metadata": {},
   "outputs": [
    {
     "name": "stdout",
     "output_type": "stream",
     "text": [
      "Epoch 1/30\n",
      "6/6 [==============================] - 2s 82ms/step - loss: 1.3249 - accuracy: 0.3750 - val_loss: 1.9700 - val_accuracy: 0.0000e+00\n",
      "Epoch 2/30\n",
      "6/6 [==============================] - 0s 63ms/step - loss: 1.1150 - accuracy: 0.5469 - val_loss: 3.0519 - val_accuracy: 0.0000e+00\n",
      "Epoch 3/30\n",
      "6/6 [==============================] - 0s 60ms/step - loss: 1.0895 - accuracy: 0.6458 - val_loss: 1.6233 - val_accuracy: 0.0000e+00\n",
      "Epoch 4/30\n",
      "6/6 [==============================] - 0s 64ms/step - loss: 0.7186 - accuracy: 0.7396 - val_loss: 1.5773 - val_accuracy: 0.0417\n",
      "Epoch 5/30\n",
      "6/6 [==============================] - 0s 64ms/step - loss: 0.6892 - accuracy: 0.7396 - val_loss: 1.4894 - val_accuracy: 0.0208\n",
      "Epoch 6/30\n",
      "6/6 [==============================] - 0s 63ms/step - loss: 0.6147 - accuracy: 0.7708 - val_loss: 1.1396 - val_accuracy: 0.3125\n",
      "Epoch 7/30\n",
      "6/6 [==============================] - 0s 62ms/step - loss: 0.5969 - accuracy: 0.8021 - val_loss: 0.7597 - val_accuracy: 0.8958\n",
      "Epoch 8/30\n",
      "6/6 [==============================] - 0s 65ms/step - loss: 0.5695 - accuracy: 0.7760 - val_loss: 1.0353 - val_accuracy: 0.5833\n",
      "Epoch 9/30\n",
      "6/6 [==============================] - 0s 63ms/step - loss: 0.4596 - accuracy: 0.8281 - val_loss: 1.0136 - val_accuracy: 0.5417\n",
      "Epoch 10/30\n",
      "6/6 [==============================] - 0s 61ms/step - loss: 0.4335 - accuracy: 0.8542 - val_loss: 0.8978 - val_accuracy: 0.6250\n",
      "Epoch 11/30\n",
      "6/6 [==============================] - 0s 60ms/step - loss: 0.4057 - accuracy: 0.8542 - val_loss: 0.7689 - val_accuracy: 0.7292\n",
      "Epoch 12/30\n",
      "6/6 [==============================] - 0s 58ms/step - loss: 0.3706 - accuracy: 0.8802 - val_loss: 0.9221 - val_accuracy: 0.6458\n",
      "Epoch 13/30\n",
      "6/6 [==============================] - 0s 59ms/step - loss: 0.4181 - accuracy: 0.8333 - val_loss: 0.5726 - val_accuracy: 0.8333\n",
      "Epoch 14/30\n",
      "6/6 [==============================] - 0s 58ms/step - loss: 0.3250 - accuracy: 0.8750 - val_loss: 1.7447 - val_accuracy: 0.3958\n",
      "Epoch 15/30\n",
      "6/6 [==============================] - 0s 60ms/step - loss: 0.3254 - accuracy: 0.9010 - val_loss: 0.5912 - val_accuracy: 0.7917\n",
      "Epoch 16/30\n",
      "6/6 [==============================] - 0s 60ms/step - loss: 0.3003 - accuracy: 0.8906 - val_loss: 0.6885 - val_accuracy: 0.7708\n",
      "Epoch 17/30\n",
      "6/6 [==============================] - 0s 59ms/step - loss: 0.3037 - accuracy: 0.8958 - val_loss: 1.1355 - val_accuracy: 0.5833\n",
      "Epoch 18/30\n",
      "6/6 [==============================] - 0s 63ms/step - loss: 0.2840 - accuracy: 0.9010 - val_loss: 0.5538 - val_accuracy: 0.8125\n",
      "Epoch 19/30\n",
      "6/6 [==============================] - 0s 60ms/step - loss: 0.2642 - accuracy: 0.9219 - val_loss: 0.5382 - val_accuracy: 0.8542\n",
      "Epoch 20/30\n",
      "6/6 [==============================] - 0s 60ms/step - loss: 0.3229 - accuracy: 0.8646 - val_loss: 0.9217 - val_accuracy: 0.6875\n",
      "Epoch 21/30\n",
      "6/6 [==============================] - 0s 60ms/step - loss: 0.2559 - accuracy: 0.9115 - val_loss: 0.3421 - val_accuracy: 0.8542\n",
      "Epoch 22/30\n",
      "6/6 [==============================] - 0s 61ms/step - loss: 0.2257 - accuracy: 0.9115 - val_loss: 0.5497 - val_accuracy: 0.8333\n",
      "Epoch 23/30\n",
      "6/6 [==============================] - 0s 63ms/step - loss: 0.2098 - accuracy: 0.9167 - val_loss: 0.5018 - val_accuracy: 0.8125\n",
      "Epoch 24/30\n",
      "6/6 [==============================] - 0s 61ms/step - loss: 0.1664 - accuracy: 0.9427 - val_loss: 0.5747 - val_accuracy: 0.8542\n",
      "Epoch 25/30\n",
      "6/6 [==============================] - 0s 61ms/step - loss: 0.1882 - accuracy: 0.9427 - val_loss: 0.6681 - val_accuracy: 0.7917\n",
      "Epoch 26/30\n",
      "6/6 [==============================] - 0s 63ms/step - loss: 0.1787 - accuracy: 0.9167 - val_loss: 0.7109 - val_accuracy: 0.8125\n",
      "Epoch 27/30\n",
      "6/6 [==============================] - 0s 63ms/step - loss: 0.1940 - accuracy: 0.9271 - val_loss: 0.4422 - val_accuracy: 0.8750\n",
      "Epoch 28/30\n",
      "6/6 [==============================] - 0s 86ms/step - loss: 0.1128 - accuracy: 0.9688 - val_loss: 0.3732 - val_accuracy: 0.8958\n",
      "Epoch 29/30\n",
      "6/6 [==============================] - 1s 107ms/step - loss: 0.0920 - accuracy: 0.9688 - val_loss: 0.3139 - val_accuracy: 0.9375\n",
      "Epoch 30/30\n",
      "6/6 [==============================] - 1s 111ms/step - loss: 0.1286 - accuracy: 0.9583 - val_loss: 0.4264 - val_accuracy: 0.8750\n"
     ]
    }
   ],
   "source": [
    "def train_model(model, x_train, y_train):\n",
    "    earlyStop = EarlyStopping(monitor = 'loss', patience = 8) #adjust based on numbers of Epoch (lower Epoch requires less patience, and vice versa)\n",
    "    #batch_size set to 10 to increase training time leading to better accuracy \n",
    "    return model.fit(x_train, y_train, validation_split=0.2, epochs=30, callbacks = [earlyStop])\n",
    "\n",
    "history = train_model(model, train_images, train_onehot_labels)"
   ]
  },
  {
   "cell_type": "code",
   "execution_count": 67,
   "metadata": {},
   "outputs": [
    {
     "name": "stdout",
     "output_type": "stream",
     "text": [
      "2/2 [==============================] - 0s 24ms/step - loss: 0.5981 - accuracy: 0.9000\n",
      "loss =  0.5980530977249146\n",
      "accuracy =  0.8999999761581421\n"
     ]
    }
   ],
   "source": [
    "def auto_eval(model, x_test, y_test):\n",
    "    loss, accuracy = model.evaluate(x=x_test, y=y_test)\n",
    "\n",
    "    print('loss = ', loss)\n",
    "    print('accuracy = ', accuracy)\n",
    "\n",
    "auto_eval(model, test_images, test_onehot_labels)"
   ]
  },
  {
   "cell_type": "code",
   "execution_count": 68,
   "metadata": {},
   "outputs": [
    {
     "data": {
      "text/plain": [
       "\"\\nCreate loss and accuracy plots.\\n\\ndef plot(hist):\\n    _, ax = plt.subplots(nrows=1, ncols=2, figsize=(12, 5))\\n\\n    ax[0].plot(hist.history['loss'])\\n    ax[0].set_xlabel('Epochs')\\n    ax[0].set_ylabel('Loss')\\n    ax[0].set_title('Loss Curve')\\n\\n    ax[1].plot(hist.history['accuracy'])\\n    ax[1].set_xlabel('Epochs')\\n    ax[1].set_ylabel('Accuracy')\\n    ax[1].set_title('Accuracy Curve')\\n\\n    plt.show()    \\n\\nplot(hist)\\n\""
      ]
     },
     "execution_count": 68,
     "metadata": {},
     "output_type": "execute_result"
    }
   ],
   "source": [
    "\n",
    "'''\n",
    "Create loss and accuracy plots.\n",
    "\n",
    "def plot(hist):\n",
    "    _, ax = plt.subplots(nrows=1, ncols=2, figsize=(12, 5))\n",
    "\n",
    "    ax[0].plot(hist.history['loss'])\n",
    "    ax[0].set_xlabel('Epochs')\n",
    "    ax[0].set_ylabel('Loss')\n",
    "    ax[0].set_title('Loss Curve')\n",
    "\n",
    "    ax[1].plot(hist.history['accuracy'])\n",
    "    ax[1].set_xlabel('Epochs')\n",
    "    ax[1].set_ylabel('Accuracy')\n",
    "    ax[1].set_title('Accuracy Curve')\n",
    "\n",
    "    plt.show()    \n",
    "\n",
    "plot(hist)\n",
    "'''"
   ]
  },
  {
   "cell_type": "code",
   "execution_count": 69,
   "metadata": {},
   "outputs": [
    {
     "ename": "ValueError",
     "evalue": "x and y must have same first dimension, but have shapes (50,) and (30,)",
     "output_type": "error",
     "traceback": [
      "\u001b[1;31m---------------------------------------------------------------------------\u001b[0m",
      "\u001b[1;31mValueError\u001b[0m                                Traceback (most recent call last)",
      "Cell \u001b[1;32mIn[69], line 24\u001b[0m\n\u001b[0;32m     19\u001b[0m     ax[\u001b[39m1\u001b[39m]\u001b[39m.\u001b[39mlegend([\u001b[39m'\u001b[39m\u001b[39mTrain\u001b[39m\u001b[39m'\u001b[39m, \u001b[39m'\u001b[39m\u001b[39mValidation\u001b[39m\u001b[39m'\u001b[39m], loc\u001b[39m=\u001b[39m\u001b[39m'\u001b[39m\u001b[39mupper left\u001b[39m\u001b[39m'\u001b[39m)\n\u001b[0;32m     21\u001b[0m     plt\u001b[39m.\u001b[39mshow()\n\u001b[1;32m---> 24\u001b[0m learning_curve(history, \u001b[39m50\u001b[39;49m)\n",
      "Cell \u001b[1;32mIn[69], line 6\u001b[0m, in \u001b[0;36mlearning_curve\u001b[1;34m(history, epoch, figsize)\u001b[0m\n\u001b[0;32m      3\u001b[0m _, ax \u001b[39m=\u001b[39m plt\u001b[39m.\u001b[39msubplots(nrows\u001b[39m=\u001b[39m\u001b[39m1\u001b[39m, ncols\u001b[39m=\u001b[39m\u001b[39m2\u001b[39m, figsize\u001b[39m=\u001b[39mfigsize)\n\u001b[0;32m      5\u001b[0m \u001b[39m# training vs validation accuracy\u001b[39;00m\n\u001b[1;32m----> 6\u001b[0m ax[\u001b[39m0\u001b[39;49m]\u001b[39m.\u001b[39;49mplot(epoch_range, history\u001b[39m.\u001b[39;49mhistory[\u001b[39m'\u001b[39;49m\u001b[39maccuracy\u001b[39;49m\u001b[39m'\u001b[39;49m])\n\u001b[0;32m      7\u001b[0m ax[\u001b[39m0\u001b[39m]\u001b[39m.\u001b[39mplot(epoch_range, history\u001b[39m.\u001b[39mhistory[\u001b[39m'\u001b[39m\u001b[39mval_accuracy\u001b[39m\u001b[39m'\u001b[39m])\n\u001b[0;32m      8\u001b[0m ax[\u001b[39m0\u001b[39m]\u001b[39m.\u001b[39mset_title(\u001b[39m'\u001b[39m\u001b[39mFruits Model Accuracy\u001b[39m\u001b[39m'\u001b[39m)\n",
      "File \u001b[1;32mc:\\Users\\yaobi\\miniforge3\\lib\\site-packages\\matplotlib\\axes\\_axes.py:1688\u001b[0m, in \u001b[0;36mAxes.plot\u001b[1;34m(self, scalex, scaley, data, *args, **kwargs)\u001b[0m\n\u001b[0;32m   1445\u001b[0m \u001b[39m\u001b[39m\u001b[39m\"\"\"\u001b[39;00m\n\u001b[0;32m   1446\u001b[0m \u001b[39mPlot y versus x as lines and/or markers.\u001b[39;00m\n\u001b[0;32m   1447\u001b[0m \n\u001b[1;32m   (...)\u001b[0m\n\u001b[0;32m   1685\u001b[0m \u001b[39m(``'green'``) or hex strings (``'#008000'``).\u001b[39;00m\n\u001b[0;32m   1686\u001b[0m \u001b[39m\"\"\"\u001b[39;00m\n\u001b[0;32m   1687\u001b[0m kwargs \u001b[39m=\u001b[39m cbook\u001b[39m.\u001b[39mnormalize_kwargs(kwargs, mlines\u001b[39m.\u001b[39mLine2D)\n\u001b[1;32m-> 1688\u001b[0m lines \u001b[39m=\u001b[39m [\u001b[39m*\u001b[39m\u001b[39mself\u001b[39m\u001b[39m.\u001b[39m_get_lines(\u001b[39m*\u001b[39margs, data\u001b[39m=\u001b[39mdata, \u001b[39m*\u001b[39m\u001b[39m*\u001b[39mkwargs)]\n\u001b[0;32m   1689\u001b[0m \u001b[39mfor\u001b[39;00m line \u001b[39min\u001b[39;00m lines:\n\u001b[0;32m   1690\u001b[0m     \u001b[39mself\u001b[39m\u001b[39m.\u001b[39madd_line(line)\n",
      "File \u001b[1;32mc:\\Users\\yaobi\\miniforge3\\lib\\site-packages\\matplotlib\\axes\\_base.py:311\u001b[0m, in \u001b[0;36m_process_plot_var_args.__call__\u001b[1;34m(self, data, *args, **kwargs)\u001b[0m\n\u001b[0;32m    309\u001b[0m     this \u001b[39m+\u001b[39m\u001b[39m=\u001b[39m args[\u001b[39m0\u001b[39m],\n\u001b[0;32m    310\u001b[0m     args \u001b[39m=\u001b[39m args[\u001b[39m1\u001b[39m:]\n\u001b[1;32m--> 311\u001b[0m \u001b[39myield from\u001b[39;00m \u001b[39mself\u001b[39;49m\u001b[39m.\u001b[39;49m_plot_args(\n\u001b[0;32m    312\u001b[0m     this, kwargs, ambiguous_fmt_datakey\u001b[39m=\u001b[39;49mambiguous_fmt_datakey)\n",
      "File \u001b[1;32mc:\\Users\\yaobi\\miniforge3\\lib\\site-packages\\matplotlib\\axes\\_base.py:504\u001b[0m, in \u001b[0;36m_process_plot_var_args._plot_args\u001b[1;34m(self, tup, kwargs, return_kwargs, ambiguous_fmt_datakey)\u001b[0m\n\u001b[0;32m    501\u001b[0m     \u001b[39mself\u001b[39m\u001b[39m.\u001b[39maxes\u001b[39m.\u001b[39myaxis\u001b[39m.\u001b[39mupdate_units(y)\n\u001b[0;32m    503\u001b[0m \u001b[39mif\u001b[39;00m x\u001b[39m.\u001b[39mshape[\u001b[39m0\u001b[39m] \u001b[39m!=\u001b[39m y\u001b[39m.\u001b[39mshape[\u001b[39m0\u001b[39m]:\n\u001b[1;32m--> 504\u001b[0m     \u001b[39mraise\u001b[39;00m \u001b[39mValueError\u001b[39;00m(\u001b[39mf\u001b[39m\u001b[39m\"\u001b[39m\u001b[39mx and y must have same first dimension, but \u001b[39m\u001b[39m\"\u001b[39m\n\u001b[0;32m    505\u001b[0m                      \u001b[39mf\u001b[39m\u001b[39m\"\u001b[39m\u001b[39mhave shapes \u001b[39m\u001b[39m{\u001b[39;00mx\u001b[39m.\u001b[39mshape\u001b[39m}\u001b[39;00m\u001b[39m and \u001b[39m\u001b[39m{\u001b[39;00my\u001b[39m.\u001b[39mshape\u001b[39m}\u001b[39;00m\u001b[39m\"\u001b[39m)\n\u001b[0;32m    506\u001b[0m \u001b[39mif\u001b[39;00m x\u001b[39m.\u001b[39mndim \u001b[39m>\u001b[39m \u001b[39m2\u001b[39m \u001b[39mor\u001b[39;00m y\u001b[39m.\u001b[39mndim \u001b[39m>\u001b[39m \u001b[39m2\u001b[39m:\n\u001b[0;32m    507\u001b[0m     \u001b[39mraise\u001b[39;00m \u001b[39mValueError\u001b[39;00m(\u001b[39mf\u001b[39m\u001b[39m\"\u001b[39m\u001b[39mx and y can be no greater than 2D, but have \u001b[39m\u001b[39m\"\u001b[39m\n\u001b[0;32m    508\u001b[0m                      \u001b[39mf\u001b[39m\u001b[39m\"\u001b[39m\u001b[39mshapes \u001b[39m\u001b[39m{\u001b[39;00mx\u001b[39m.\u001b[39mshape\u001b[39m}\u001b[39;00m\u001b[39m and \u001b[39m\u001b[39m{\u001b[39;00my\u001b[39m.\u001b[39mshape\u001b[39m}\u001b[39;00m\u001b[39m\"\u001b[39m)\n",
      "\u001b[1;31mValueError\u001b[0m: x and y must have same first dimension, but have shapes (50,) and (30,)"
     ]
    },
    {
     "data": {
      "image/png": "[encoded data removed]",
      "text/plain": [
       "<Figure size 1200x500 with 2 Axes>"
      ]
     },
     "metadata": {},
     "output_type": "display_data"
    }
   ],
   "source": [
    "def learning_curve(history, epoch, figsize=(12, 5)):\n",
    "    epoch_range = range(1, epoch + 1)\n",
    "    _, ax = plt.subplots(nrows=1, ncols=2, figsize=figsize)\n",
    "\n",
    "    # training vs validation accuracy\n",
    "    ax[0].plot(epoch_range, history.history['accuracy'])\n",
    "    ax[0].plot(epoch_range, history.history['val_accuracy'])\n",
    "    ax[0].set_title('Fruits Model Accuracy')\n",
    "    ax[0].set_ylabel('Accuracy')\n",
    "    ax[0].set_xlabel('Epoch')\n",
    "    ax[0].legend(['Train', 'Validation'], loc='upper left')\n",
    "\n",
    "    # training vs validation loss\n",
    "    ax[1].plot(epoch_range, history.history['loss'])\n",
    "    ax[1].plot(epoch_range, history.history['val_loss'])\n",
    "    ax[1].set_title('Fruits Model Loss')\n",
    "    ax[1].set_ylabel('Loss')\n",
    "    ax[1].set_xlabel('Epoch')\n",
    "    ax[1].legend(['Train', 'Validation'], loc='upper left')\n",
    "\n",
    "    plt.show()\n",
    "    \n",
    "\n",
    "learning_curve(history, 50)"
   ]
  },
  {
   "cell_type": "code",
   "execution_count": null,
   "metadata": {},
   "outputs": [],
   "source": [
    "def manual_eval(model, x_test, y_test):\n",
    "    predictions = model.predict(x=x_test)\n",
    "    n_preds = len(predictions)\n",
    "    correct = 0\n",
    "    wrong = 0\n",
    "    for i in np.arange(n_preds):\n",
    "        predict_max = np.argmax(predictions[i])\n",
    "        actual_max = np.argmax(y_test[i])\n",
    "\n",
    "        if predict_max == actual_max:\n",
    "            correct += 1\n",
    "        else:\n",
    "            wrong += 1\n",
    "\n",
    "    print('correct: {0}, wrong: {1}'.format(correct, wrong))\n",
    "    print('accuracy =', correct / n_preds)\n",
    "\n",
    "manual_eval(model, test_images, test_onehot_labels)"
   ]
  }
 ],
 "metadata": {
  "kernelspec": {
   "display_name": "base",
   "language": "python",
   "name": "python3"
  },
  "language_info": {
   "codemirror_mode": {
    "name": "ipython",
    "version": 3
   },
   "file_extension": ".py",
   "mimetype": "text/x-python",
   "name": "python",
   "nbconvert_exporter": "python",
   "pygments_lexer": "ipython3",
   "version": "3.10.10"
  },
  "orig_nbformat": 4
 },
 "nbformat": 4,
 "nbformat_minor": 2
}
